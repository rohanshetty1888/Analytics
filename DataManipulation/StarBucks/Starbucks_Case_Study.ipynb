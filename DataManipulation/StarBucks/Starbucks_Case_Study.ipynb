{
 "cells": [
  {
   "cell_type": "code",
   "execution_count": 1,
   "metadata": {},
   "outputs": [],
   "source": [
    "#Load packages\n",
    "import pandas as pd\n",
    "import numpy as np\n",
    "from pandas import Series, DataFrame"
   ]
  },
  {
   "cell_type": "code",
   "execution_count": 2,
   "metadata": {},
   "outputs": [],
   "source": [
    "#import file\n",
    "starbucks=pd.read_csv(\"starbucks_final.csv\")"
   ]
  },
  {
   "cell_type": "code",
   "execution_count": 4,
   "metadata": {},
   "outputs": [
    {
     "data": {
      "text/html": [
       "<div>\n",
       "<style scoped>\n",
       "    .dataframe tbody tr th:only-of-type {\n",
       "        vertical-align: middle;\n",
       "    }\n",
       "\n",
       "    .dataframe tbody tr th {\n",
       "        vertical-align: top;\n",
       "    }\n",
       "\n",
       "    .dataframe thead th {\n",
       "        text-align: right;\n",
       "    }\n",
       "</style>\n",
       "<table border=\"1\" class=\"dataframe\">\n",
       "  <thead>\n",
       "    <tr style=\"text-align: right;\">\n",
       "      <th></th>\n",
       "      <th>Name</th>\n",
       "      <th>Calories</th>\n",
       "      <th>Fat</th>\n",
       "      <th>Carb</th>\n",
       "      <th>Fiber</th>\n",
       "      <th>Protein</th>\n",
       "    </tr>\n",
       "  </thead>\n",
       "  <tbody>\n",
       "    <tr>\n",
       "      <th>0</th>\n",
       "      <td>Chonga Bagel</td>\n",
       "      <td>300</td>\n",
       "      <td>5.0</td>\n",
       "      <td>50</td>\n",
       "      <td>3</td>\n",
       "      <td>12</td>\n",
       "    </tr>\n",
       "    <tr>\n",
       "      <th>1</th>\n",
       "      <td>8-Grain Roll</td>\n",
       "      <td>380</td>\n",
       "      <td>6.0</td>\n",
       "      <td>70</td>\n",
       "      <td>7</td>\n",
       "      <td>10</td>\n",
       "    </tr>\n",
       "    <tr>\n",
       "      <th>2</th>\n",
       "      <td>Almond Croissant</td>\n",
       "      <td>410</td>\n",
       "      <td>22.0</td>\n",
       "      <td>45</td>\n",
       "      <td>3</td>\n",
       "      <td>10</td>\n",
       "    </tr>\n",
       "    <tr>\n",
       "      <th>3</th>\n",
       "      <td>Apple Fritter</td>\n",
       "      <td>460</td>\n",
       "      <td>23.0</td>\n",
       "      <td>56</td>\n",
       "      <td>2</td>\n",
       "      <td>7</td>\n",
       "    </tr>\n",
       "    <tr>\n",
       "      <th>4</th>\n",
       "      <td>Banana Nut Bread</td>\n",
       "      <td>420</td>\n",
       "      <td>22.0</td>\n",
       "      <td>52</td>\n",
       "      <td>2</td>\n",
       "      <td>6</td>\n",
       "    </tr>\n",
       "  </tbody>\n",
       "</table>\n",
       "</div>"
      ],
      "text/plain": [
       "               Name  Calories   Fat  Carb  Fiber  Protein\n",
       "0      Chonga Bagel       300   5.0    50      3       12\n",
       "1      8-Grain Roll       380   6.0    70      7       10\n",
       "2  Almond Croissant       410  22.0    45      3       10\n",
       "3     Apple Fritter       460  23.0    56      2        7\n",
       "4  Banana Nut Bread       420  22.0    52      2        6"
      ]
     },
     "execution_count": 4,
     "metadata": {},
     "output_type": "execute_result"
    }
   ],
   "source": [
    "starbucks.head(5)"
   ]
  },
  {
   "cell_type": "code",
   "execution_count": 12,
   "metadata": {},
   "outputs": [],
   "source": [
    "# Get the list of items which contains the following:\n",
    "# Calories upto 450g\n",
    "# Protein upto 40g\n",
    "#Fat upto 10g \n",
    "# Carb upto 40g\n",
    "# Fiber upto 5g\n",
    "subset=starbucks.query(\"Calories<=450 and Protein<=40 and Fat<=10 and Carb<=40 and Fiber<=5\")"
   ]
  },
  {
   "cell_type": "code",
   "execution_count": 13,
   "metadata": {},
   "outputs": [
    {
     "data": {
      "text/plain": [
       "10                                Chewy Chocolate Cookie\n",
       "25          Everybody's Favorite - Bantam Bagel (2 Pack)\n",
       "27                             Frappuccino® Cookie Straw\n",
       "28                 French Toast - Bantam Bagels (2 Pack)\n",
       "39                             Petite Vanilla Bean Scone\n",
       "48                                   Strawberry Cake Pop\n",
       "49                  The Classic - Bantam Bagels (2 Pack)\n",
       "77                                     Birthday Cake Pop\n",
       "78                                    Chocolate Cake Pop\n",
       "79                  Chocolate Chip Cookie Dough Cake Pop\n",
       "80                                       Pirate Cake Pop\n",
       "83                           Classic Whole-Grain Oatmeal\n",
       "87     Reduced-Fat Turkey Bacon & Cage Free Egg White...\n",
       "92           Sous Vide Egg Bites: Egg White & Red Pepper\n",
       "106                                    Berry Trio Yogurt\n",
       "111                             Organic Avocado (Spread)\n",
       "Name: Name, dtype: object"
      ]
     },
     "execution_count": 13,
     "metadata": {},
     "output_type": "execute_result"
    }
   ],
   "source": [
    "subset['Name']"
   ]
  },
  {
   "cell_type": "code",
   "execution_count": 15,
   "metadata": {},
   "outputs": [
    {
     "data": {
      "text/plain": [
       "111                             Organic Avocado (Spread)\n",
       "92           Sous Vide Egg Bites: Egg White & Red Pepper\n",
       "25          Everybody's Favorite - Bantam Bagel (2 Pack)\n",
       "27                             Frappuccino® Cookie Straw\n",
       "39                             Petite Vanilla Bean Scone\n",
       "48                                   Strawberry Cake Pop\n",
       "78                                    Chocolate Cake Pop\n",
       "79                  Chocolate Chip Cookie Dough Cake Pop\n",
       "77                                     Birthday Cake Pop\n",
       "80                                       Pirate Cake Pop\n",
       "87     Reduced-Fat Turkey Bacon & Cage Free Egg White...\n",
       "49                  The Classic - Bantam Bagels (2 Pack)\n",
       "83                           Classic Whole-Grain Oatmeal\n",
       "28                 French Toast - Bantam Bagels (2 Pack)\n",
       "10                                Chewy Chocolate Cookie\n",
       "106                                    Berry Trio Yogurt\n",
       "Name: Name, dtype: object"
      ]
     },
     "execution_count": 15,
     "metadata": {},
     "output_type": "execute_result"
    }
   ],
   "source": [
    "#Sort the items on the basis of least Carbs and maximum Proteins\n",
    "subset.sort_values(by=['Carb','Protein'],ascending=[True,False])['Name']"
   ]
  },
  {
   "cell_type": "code",
   "execution_count": null,
   "metadata": {},
   "outputs": [],
   "source": []
  }
 ],
 "metadata": {
  "kernelspec": {
   "display_name": "Python 3",
   "language": "python",
   "name": "python3"
  },
  "language_info": {
   "codemirror_mode": {
    "name": "ipython",
    "version": 3
   },
   "file_extension": ".py",
   "mimetype": "text/x-python",
   "name": "python",
   "nbconvert_exporter": "python",
   "pygments_lexer": "ipython3",
   "version": "3.6.4"
  }
 },
 "nbformat": 4,
 "nbformat_minor": 2
}
